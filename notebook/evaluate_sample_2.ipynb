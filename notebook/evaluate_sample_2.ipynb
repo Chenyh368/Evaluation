{
 "cells": [
  {
   "cell_type": "code",
   "execution_count": 3,
   "outputs": [],
   "source": [
    "import os\n",
    "os.chdir('../')\n",
    "from ObjectDetectionMetrics import *\n",
    "import sys\n",
    "import glob\n",
    "import os\n",
    "from ObjectDetectionMetrics.utils import CoordinatesType, BBType, BBFormat\n",
    "from ObjectDetectionMetrics.BoundingBox import BoundingBox\n",
    "from ObjectDetectionMetrics.BoundingBoxes import BoundingBoxes\n",
    "\n",
    "\n",
    "def getBoundingBoxes(gt_folder, det_folder):\n",
    "    # Class representing bounding boxes (ground truths and detections)\n",
    "    allBoundingBoxes = BoundingBoxes()\n",
    "    # Read groundtruths\n",
    "    os.chdir(gt_folder)\n",
    "    files = glob.glob(\"*.txt\")\n",
    "    files.sort()\n",
    "    # Read GT detections from txt file\n",
    "    # Each line of the files in the groundtruths folder represents a ground truth bounding box (bounding boxes that a detector should detect)\n",
    "    # Each value of each line is  \"class_id, x, y, width, height\" respectively\n",
    "    # Class_id represents the class of the bounding box\n",
    "    # x, y represents the most top-left coordinates of the bounding box\n",
    "    # x2, y2 represents the most bottom-right coordinates of the bounding box\n",
    "    for f in files:\n",
    "        nameOfImage = f.replace(\".txt\",\"\")\n",
    "        fh1 = open(f, \"r\")\n",
    "        for line in fh1:\n",
    "            line = line.replace(\"\\n\",\"\")\n",
    "            if line.replace(' ','') == '':\n",
    "                continue\n",
    "            splitLine = line.split(\" \")\n",
    "            idClass = splitLine[0] #class\n",
    "            x = float(splitLine[1])\n",
    "            y = float(splitLine[2])\n",
    "            w = float(splitLine[3])\n",
    "            h = float(splitLine[4])\n",
    "            bb = BoundingBox(nameOfImage,idClass,x,y,w,h,CoordinatesType.Absolute, (200,200), BBType.GroundTruth, format=BBFormat.XYWH)\n",
    "            allBoundingBoxes.addBoundingBox(bb)\n",
    "        fh1.close()\n",
    "    # Read detections\n",
    "    os.chdir(det_folder)\n",
    "    files = glob.glob(\"*.txt\")\n",
    "    files.sort()\n",
    "    # Read detections from txt file\n",
    "    # Each line of the files in the detections folder represents a detected bounding box.\n",
    "    # Each value of each line is  \"class_id, confidence, x, y, width, height\" respectively\n",
    "    # Class_id represents the class of the detected bounding box\n",
    "    # Confidence represents the confidence (from 0 to 1) that this detection belongs to the class_id.\n",
    "    # x, y represents the most top-left coordinates of the bounding box\n",
    "    # x2, y2 represents the most bottom-right coordinates of the bounding box\n",
    "    for f in files:\n",
    "        # nameOfImage = f.replace(\"_det.txt\",\"\")\n",
    "        nameOfImage = f.replace(\".txt\",\"\")\n",
    "        # Read detections from txt file\n",
    "        fh1 = open(f, \"r\")\n",
    "        for line in fh1:\n",
    "            line = line.replace(\"\\n\",\"\")\n",
    "            if line.replace(' ','') == '':\n",
    "                continue\n",
    "            splitLine = line.split(\" \")\n",
    "            idClass = splitLine[0] #class\n",
    "            confidence = float(splitLine[1]) #confidence\n",
    "            x = float(splitLine[2])\n",
    "            y = float(splitLine[3])\n",
    "            w = float(splitLine[4])\n",
    "            h = float(splitLine[5])\n",
    "            bb = BoundingBox(nameOfImage, idClass,x,y,w,h,CoordinatesType.Absolute, (200,200), BBType.Detected, confidence, format=BBFormat.XYWH)\n",
    "            allBoundingBoxes.addBoundingBox(bb)\n",
    "        fh1.close()\n",
    "    return allBoundingBoxes\n",
    "\n",
    "# Read txt files containing bounding boxes (ground truth and detections)\n",
    "boundingboxes = getBoundingBoxes('/Users/vvv/Code/Code_dev/Evaluation/data/sample_2/groundtruths', '/Users/vvv/Code/Code_dev/Evaluation/data/sample_2/detections')"
   ],
   "metadata": {
    "collapsed": false
   }
  },
  {
   "cell_type": "code",
   "execution_count": 4,
   "outputs": [],
   "source": [
    "from ObjectDetectionMetrics.Evaluator import Evaluator\n",
    "\n",
    "# Create an evaluator object in order to obtain the metrics\n",
    "evaluator = Evaluator()"
   ],
   "metadata": {
    "collapsed": false
   }
  },
  {
   "cell_type": "code",
   "execution_count": 5,
   "outputs": [
    {
     "data": {
      "text/plain": "<Figure size 432x288 with 1 Axes>",
      "image/png": "[encoded data removed]"
     },
     "metadata": {
      "needs_background": "light"
     },
     "output_type": "display_data"
    },
    {
     "data": {
      "text/plain": "[{'class': 'object',\n  'precision': array([1.        , 0.5       , 0.66666667, 0.5       , 0.4       ,\n         0.33333333, 0.28571429, 0.25      , 0.22222222, 0.3       ,\n         0.27272727, 0.33333333, 0.38461538, 0.42857143, 0.4       ,\n         0.375     , 0.35294118, 0.33333333, 0.31578947, 0.3       ,\n         0.28571429, 0.27272727, 0.30434783, 0.29166667]),\n  'recall': array([0.06666667, 0.06666667, 0.13333333, 0.13333333, 0.13333333,\n         0.13333333, 0.13333333, 0.13333333, 0.13333333, 0.2       ,\n         0.2       , 0.26666667, 0.33333333, 0.4       , 0.4       ,\n         0.4       , 0.4       , 0.4       , 0.4       , 0.4       ,\n         0.4       , 0.4       , 0.46666667, 0.46666667]),\n  'AP': 0.24568668046928915,\n  'interpolated precision': [1.0,\n   1.0,\n   0.6666666666666666,\n   0.6666666666666666,\n   0.5,\n   0.42857142857142855,\n   0.42857142857142855,\n   0.42857142857142855,\n   0.42857142857142855,\n   0.42857142857142855,\n   0.42857142857142855,\n   0.42857142857142855,\n   0.42857142857142855,\n   0.42857142857142855,\n   0.42857142857142855,\n   0.4,\n   0.375,\n   0.35294117647058826,\n   0.3333333333333333,\n   0.3157894736842105,\n   0.30434782608695654,\n   0.30434782608695654,\n   0.30434782608695654,\n   0.30434782608695654,\n   0.2916666666666667],\n  'interpolated recall': [0,\n   0.06666666666666667,\n   0.06666666666666667,\n   0.13333333333333333,\n   0.13333333333333333,\n   0.13333333333333333,\n   0.13333333333333333,\n   0.13333333333333333,\n   0.13333333333333333,\n   0.13333333333333333,\n   0.2,\n   0.2,\n   0.26666666666666666,\n   0.3333333333333333,\n   0.4,\n   0.4,\n   0.4,\n   0.4,\n   0.4,\n   0.4,\n   0.4,\n   0.4,\n   0.4,\n   0.4666666666666667,\n   0.4666666666666667],\n  'total positives': 15,\n  'total TP': 7.0,\n  'total FP': 17.0}]"
     },
     "execution_count": 5,
     "metadata": {},
     "output_type": "execute_result"
    }
   ],
   "source": [
    "from ObjectDetectionMetrics.utils import MethodAveragePrecision\n",
    "\n",
    "# Plot Precision x Recall curve\n",
    "evaluator.PlotPrecisionRecallCurve(\n",
    "    boundingboxes,  # Object containing all bounding boxes (ground truths and detections)\n",
    "    IOUThreshold=0.3,  # IOU threshold\n",
    "    method=MethodAveragePrecision.EveryPointInterpolation,  # As the official matlab code\n",
    "    showAP=True,  # Show Average Precision in the title of the plot\n",
    "    showInterpolatedPrecision=True)  # Plot the interpolated precision curve"
   ],
   "metadata": {
    "collapsed": false
   }
  },
  {
   "cell_type": "code",
   "execution_count": 6,
   "outputs": [
    {
     "name": "stdout",
     "output_type": "stream",
     "text": [
      "Average precision values per class:\n",
      "\n",
      "object: 0.245687\n"
     ]
    }
   ],
   "source": [
    "import numpy as np\n",
    "\n",
    "# Get metrics with PASCAL VOC metrics\n",
    "metricsPerClass = evaluator.GetPascalVOCMetrics(\n",
    "    boundingboxes,  # Object containing all bounding boxes (ground truths and detections)\n",
    "    IOUThreshold=0.3,  # IOU threshold\n",
    "    method=MethodAveragePrecision.EveryPointInterpolation)  # As the official matlab code\n",
    "print(\"Average precision values per class:\\n\")\n",
    "# Loop through classes to obtain their metrics\n",
    "for mc in metricsPerClass:\n",
    "    # Get metric values per each class\n",
    "    c = mc['class']\n",
    "    precision = mc['precision']\n",
    "    recall = mc['recall']\n",
    "    average_precision = mc['AP']\n",
    "    ipre = mc['interpolated precision']\n",
    "    irec = mc['interpolated recall']\n",
    "    # Print AP per class\n",
    "    print('%s: %f' % (c, average_precision))"
   ],
   "metadata": {
    "collapsed": false
   }
  },
  {
   "cell_type": "code",
   "execution_count": null,
   "outputs": [],
   "source": [],
   "metadata": {
    "collapsed": false
   }
  }
 ],
 "metadata": {
  "kernelspec": {
   "display_name": "Python 3",
   "language": "python",
   "name": "python3"
  },
  "language_info": {
   "codemirror_mode": {
    "name": "ipython",
    "version": 2
   },
   "file_extension": ".py",
   "mimetype": "text/x-python",
   "name": "python",
   "nbconvert_exporter": "python",
   "pygments_lexer": "ipython2",
   "version": "2.7.6"
  }
 },
 "nbformat": 4,
 "nbformat_minor": 0
}
